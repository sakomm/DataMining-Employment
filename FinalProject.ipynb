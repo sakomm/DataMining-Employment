{
 "cells": [
  {
   "attachments": {},
   "cell_type": "markdown",
   "metadata": {},
   "source": [
    "# Data Analysis of Layoffs in the United States Tech Industry \n",
    "\n",
    "## Project Motivation and Background\n",
    "\n",
    "As Computer Science students about to enter the job market, we're concerned about the volatility of the tech industry. We want to analyze and create a system that can help people understand the markets, plan an exit strategy, and alleviate these concerns.\n",
    "\n",
    "## Project Goal:\n",
    "The goal of our project is to analyze trends in companies' recent layoffs in a variety of industries (aerospace, travel, retail, etc.) and detect patterns and trends.  This will be done by looking at the number of employees laid off, the location of the companies, their stages, and the funds they have raised.\n",
    "\n",
    "\n"
   ]
  },
  {
   "cell_type": "code",
   "execution_count": 6,
   "metadata": {},
   "outputs": [
    {
     "name": "stdout",
     "output_type": "stream",
     "text": [
      "Unique values for 'company': 2021\n",
      "Total number of new columns: 315\n"
     ]
    }
   ],
   "source": [
    "import pandas as pd\n",
    "import numpy as np\n",
    "\n",
    "# Read in the data\n",
    "layoffs = pd.read_csv('layoffs.csv')\n",
    "layoffs.head()\n",
    "\n",
    "# one hot encoding for categorical variables \n",
    "print(f\"Unique values for 'company': {len(layoffs['company'].unique())}\")\n",
    "\n",
    "# Adding dummy variables for location, industry, stage, and country\n",
    "totalNewCols = len(layoffs['location'].unique()) + len(layoffs['industry'].unique()) + len(layoffs['stage'].unique()) + len(layoffs['country'].unique())\n",
    "print(f\"Total number of new columns: {totalNewCols}\")\n",
    "\n",
    "loca = pd.get_dummies(layoffs['location'], prefix='location')\n",
    "indu = pd.get_dummies(layoffs['industry'], prefix='industry')\n",
    "stag = pd.get_dummies(layoffs['stage'], prefix='stage')\n",
    "coun = pd.get_dummies(layoffs['country'], prefix='country')\n",
    "\n",
    "# drop the original columns\n",
    "layoffs.drop(['location', 'industry', 'stage', 'country'], axis=1, inplace=True)\n",
    "\n",
    "# concat the new columns\n",
    "layoffs = pd.concat([layoffs, loca, indu, stag, coun], axis=1)"
   ]
  },
  {
   "cell_type": "code",
   "execution_count": null,
   "metadata": {},
   "outputs": [],
   "source": []
  }
 ],
 "metadata": {
  "kernelspec": {
   "display_name": "Python 3",
   "language": "python",
   "name": "python3"
  },
  "language_info": {
   "codemirror_mode": {
    "name": "ipython",
    "version": 3
   },
   "file_extension": ".py",
   "mimetype": "text/x-python",
   "name": "python",
   "nbconvert_exporter": "python",
   "pygments_lexer": "ipython3",
   "version": "3.10.6"
  },
  "orig_nbformat": 4
 },
 "nbformat": 4,
 "nbformat_minor": 2
}
